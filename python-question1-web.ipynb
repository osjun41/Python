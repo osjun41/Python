{
 "cells": [
  {
   "cell_type": "markdown",
   "metadata": {},
   "source": [
    "## 1. 문제를 풀며 빠르게 익숙해지는 파이썬 기본 프로그래밍1"
   ]
  },
  {
   "cell_type": "markdown",
   "metadata": {},
   "source": [
    "### Exercise 1. 출력\n",
    "* 화면에 \"Hello World!\"를 출력하세요."
   ]
  },
  {
   "cell_type": "code",
   "execution_count": 1,
   "metadata": {},
   "outputs": [
    {
     "name": "stdout",
     "output_type": "stream",
     "text": [
      "Hello World!\n"
     ]
    }
   ],
   "source": [
    "print (\"Hello World!\")"
   ]
  },
  {
   "cell_type": "markdown",
   "metadata": {},
   "source": [
    "### Exercise 2. 출력\n",
    "* 화면에 \"I don't like C language\"를 출력하세요."
   ]
  },
  {
   "cell_type": "code",
   "execution_count": 2,
   "metadata": {},
   "outputs": [
    {
     "name": "stdout",
     "output_type": "stream",
     "text": [
      "I don't like C language\n"
     ]
    }
   ],
   "source": [
    "print (\"I don't like C language\")"
   ]
  },
  {
   "cell_type": "markdown",
   "metadata": {},
   "source": [
    "### Exercise 3. 출력\n",
    "* print 함수를 사용하여 3.1415의 값을 출력하세요. \n",
    "  - 단, 소수점 아래는 첫 번째 자리까지만 표시되도록 하세요.\n",
    "\n",
    "Example <br>\n",
    "3.1"
   ]
  },
  {
   "cell_type": "code",
   "execution_count": 2,
   "metadata": {},
   "outputs": [
    {
     "name": "stdout",
     "output_type": "stream",
     "text": [
      "3.1\n"
     ]
    }
   ],
   "source": [
    "pi = 3.1415\n",
    "print(format(pi, \".1f\"))"
   ]
  },
  {
   "cell_type": "markdown",
   "metadata": {},
   "source": [
    "### Exercise 4. 형 변환\n",
    "* 문자열 '720'를 정수형으로 변환하라. 정수 100을 문자열 '100'으로 변환하라."
   ]
  },
  {
   "cell_type": "code",
   "execution_count": 7,
   "metadata": {},
   "outputs": [
    {
     "name": "stdout",
     "output_type": "stream",
     "text": [
      "<class 'int'> 720\n",
      "<class 'str'> 100\n"
     ]
    }
   ],
   "source": [
    "a = '720'\n",
    "a= int(a)\n",
    "print(type(a), a)\n",
    "\n",
    "b = 100\n",
    "b = str(b)\n",
    "print(type(b), b)"
   ]
  },
  {
   "cell_type": "markdown",
   "metadata": {},
   "source": [
    "### Exercise 5. 연산\n",
    "* 2와 4 숫자를 변수에 넣고, 두 변수를 더한 값, 곱한 값, 나눈 값을 출력하세요.\n",
    "\n",
    "Example <br>\n",
    "6 <br>\n",
    "8 <br>\n",
    "0.5"
   ]
  },
  {
   "cell_type": "code",
   "execution_count": 1,
   "metadata": {},
   "outputs": [
    {
     "name": "stdout",
     "output_type": "stream",
     "text": [
      "6 8 0.5\n"
     ]
    }
   ],
   "source": [
    "num1 = 2\n",
    "num2 = 4\n",
    "print(num1+num2, num1*num2, num1/num2)"
   ]
  },
  {
   "cell_type": "code",
   "execution_count": 3,
   "metadata": {},
   "outputs": [
    {
     "name": "stdout",
     "output_type": "stream",
     "text": [
      "6\n",
      "8\n",
      "0.5\n"
     ]
    }
   ],
   "source": [
    "num1 = 2\n",
    "num2 = 4\n",
    "\n",
    "print (num1 + num2)\n",
    "print (num1 * num2)\n",
    "print (num1 / num2)\n"
   ]
  },
  {
   "cell_type": "markdown",
   "metadata": {},
   "source": [
    "### Exercise 6. 연산\n",
    "* 밑이 6 이고, 지수가 2 일 때 거듭제곱 값을 출력하라.\n",
    "  - 6의 2승\n",
    "\n",
    "Example <br>\n",
    "36"
   ]
  },
  {
   "cell_type": "code",
   "execution_count": 8,
   "metadata": {},
   "outputs": [
    {
     "name": "stdout",
     "output_type": "stream",
     "text": [
      "36\n"
     ]
    }
   ],
   "source": [
    "print(6**2)"
   ]
  },
  {
   "cell_type": "markdown",
   "metadata": {},
   "source": [
    "### Exercise 7.  입력과 출력\n",
    "* 사용자로부터 두 개의 숫자를 입력받은 후 두 개의 숫자를 더한 값을 각각 출력하는 프로그램을 작성하세요.\n",
    "\n",
    "Example<br>\n",
    "INPUT: 2 and 4 <br>\n",
    "OUTPUT: <br>\n",
    "\n",
    "6"
   ]
  },
  {
   "cell_type": "markdown",
   "metadata": {},
   "source": [
    "### Exercise 8. 입력과 출력\n",
    "* 사용자로부터 두 개의 숫자를 입력받은 후 두 개의 숫자를 더한 값, 곱한 값, 나눈 값을 각각 출력하는 프로그램을 작성하세요.\n",
    "\n",
    "Example<br>\n",
    "INPUT: 2 and 4 <br>\n",
    "OUTPUT: <br>\n",
    "\n",
    "6 <br>\n",
    "8 <br>\n",
    "0.5"
   ]
  },
  {
   "cell_type": "code",
   "execution_count": 17,
   "metadata": {
    "scrolled": true
   },
   "outputs": [
    {
     "name": "stdout",
     "output_type": "stream",
     "text": [
      "2\n",
      "4\n",
      "INPUT: 2 and 4\n",
      "OUTPUT: 6 8 0.5\n"
     ]
    }
   ],
   "source": [
    "data1 = int(input())\n",
    "data2 = int(input())\n",
    "\n",
    "print(\"INPUT: {} and {}\".format(data1, data2))\n",
    "print(\"OUTPUT: {} {} {}\".format(data1+data2, data1*data2, data1/data2))"
   ]
  },
  {
   "cell_type": "markdown",
   "metadata": {},
   "source": [
    "### Exercise 9.  입력과 출력\n",
    "* 사용자로부터 두 개의 숫자를 입력받은 후 두 개의 숫자를 더한 값, 곱한 값, 나눈 값, 나눈 몫, 나머지 값을 각각 출력하는 프로그램을 작성하세요.\n",
    "\n",
    "Example<br>\n",
    "INPUT: 4 and 4 <br>\n",
    "OUTPUT: <br>\n",
    "\n",
    "8 <br>\n",
    "16 <br>\n",
    "1.0 <br>\n",
    "1 <br>\n",
    "0"
   ]
  },
  {
   "cell_type": "code",
   "execution_count": 18,
   "metadata": {},
   "outputs": [
    {
     "name": "stdout",
     "output_type": "stream",
     "text": [
      "4\n",
      "4\n",
      "INPUT: 4 and 4\n",
      "OUTPUT: 8 16 1.0 1 0\n"
     ]
    }
   ],
   "source": [
    "data1 = int(input())\n",
    "data2 = int(input())\n",
    "\n",
    "print(\"INPUT: {} and {}\".format(data1, data2))\n",
    "print(\"OUTPUT: {} {} {} {} {}\".format(data1+data2, data1*data2, data1/data2, data1//data2, data1%data2))"
   ]
  },
  {
   "cell_type": "markdown",
   "metadata": {},
   "source": [
    "### Exercise 10.  입력과 출력\n",
    "* 사용자로부터 두 개의 숫자를 입력받은 후 두 개의 숫자를 더한 값, 곱한 값, 나눈 값, 나눈 몫, 나머지 값을 각각 다음과 같이 출력하는 프로그램을 작성하세요.\n",
    "\n",
    "Example<br>\n",
    "INPUT: 4 and 4 <br>\n",
    "OUTPUT: <br>\n",
    "\n",
    "4 + 4 = 8 <br>\n",
    "4 * 4 = 16 <br>\n",
    "4 / 4 = 1 <br>\n",
    "4 // 4 = 1 <br>\n",
    "4 % 4 = 0 <br>"
   ]
  },
  {
   "cell_type": "code",
   "execution_count": null,
   "metadata": {},
   "outputs": [],
   "source": [
    "data1 = int(input())\n",
    "data2 = int(input())\n",
    "\n",
    "print(\"INPUT: {} and {}\".format(data1, data2))\n",
    "print(\"OUTPUT:\")\n",
    "print(\"{} + {} = {}\".format(data1, data2, data1+data2))\n",
    "print(\"{} * {} = {}\".format(data1, data2, data1*data2))\n",
    "print(\"{} / {} = {}\".format(data1, data2, int(data1/data2)))\n",
    "print(\"{} // {} = {}\".format(data1, data2, data1//data2))\n",
    "print(\"{} % {} = {}\".format(data1, data2, data1%data2))"
   ]
  },
  {
   "cell_type": "markdown",
   "metadata": {},
   "source": [
    "### Exercise 11.  입력과 출력\n",
    "* 사용자로부터 두 개의 숫자를 입력받은 후 두 개의 숫자를 더한 값, 곱한 값, 나눈 값, 나눈 몫, 나머지 값을 각각 다음과 같이 출력하는 프로그램을 작성하세요.\n",
    "  - 단, 나눈 값은 소숫점 첫번째 자리까지만 출력하세요.\n",
    "\n",
    "Example<br>\n",
    "INPUT: 5 and 4 <br>\n",
    "OUTPUT: <br>\n",
    "\n",
    "5 + 4 = 9 <br>\n",
    "5 + 4 = 20 <br>\n",
    "5 / 4 = 1.2 <br>\n",
    "5 // 4 = 1 <br>\n",
    "5 % 4 = 1 <br>"
   ]
  },
  {
   "cell_type": "code",
   "execution_count": 29,
   "metadata": {},
   "outputs": [
    {
     "name": "stdout",
     "output_type": "stream",
     "text": [
      "5\n",
      "3\n",
      "INPUT: 5 and 3\n",
      "OUTPUT:\n",
      "5 + 3 = 8\n",
      "5 * 3 = 15\n",
      "5 / 3 = 1.7\n",
      "5 // 3 = 1\n",
      "5 % 3 = 2\n"
     ]
    }
   ],
   "source": [
    "data1 = int(input())\n",
    "data2 = int(input())\n",
    "\n",
    "print(\"INPUT: {} and {}\".format(data1, data2))\n",
    "print(\"OUTPUT:\")\n",
    "print(\"{} + {} = {}\".format(data1, data2, data1+data2))\n",
    "print(\"{} * {} = {}\".format(data1, data2, data1*data2))\n",
    "print(\"{} / {} = {}\".format(data1, data2, format(data1/data2,\".1f\")))\n",
    "print(\"{} // {} = {}\".format(data1, data2, data1//data2))\n",
    "print(\"{} % {} = {}\".format(data1, data2, data1%data2))"
   ]
  }
 ],
 "metadata": {
  "kernelspec": {
   "display_name": "Python 3",
   "language": "python",
   "name": "python3"
  },
  "language_info": {
   "codemirror_mode": {
    "name": "ipython",
    "version": 3
   },
   "file_extension": ".py",
   "mimetype": "text/x-python",
   "name": "python",
   "nbconvert_exporter": "python",
   "pygments_lexer": "ipython3",
   "version": "3.8.5"
  },
  "nbTranslate": {
   "displayLangs": [
    "*"
   ],
   "hotkey": "alt-t",
   "langInMainMenu": true,
   "sourceLang": "en",
   "targetLang": "fr",
   "useGoogleTranslate": true
  }
 },
 "nbformat": 4,
 "nbformat_minor": 2
}
